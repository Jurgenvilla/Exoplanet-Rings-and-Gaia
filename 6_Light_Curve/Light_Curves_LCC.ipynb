{
 "cells": [
  {
   "cell_type": "code",
   "execution_count": 1,
   "metadata": {
    "collapsed": false
   },
   "outputs": [],
   "source": [
    "# -*- coding: utf-8 -*-\n",
    "\n",
    "import numpy as np\n",
    "import matplotlib.pyplot as plt\n",
    "from astropy.table import Table\n",
    "import sys\n",
    "import struct\n",
    "import math\n",
    "import os\n",
    "\n",
    "%matplotlib inline"
   ]
  },
  {
   "cell_type": "code",
   "execution_count": 2,
   "metadata": {
    "collapsed": true
   },
   "outputs": [],
   "source": [
    "#Files with cut and without cut-off \n",
    "\n",
    "LCC        = Table.read('LCC_Table.csv', format = 'ascii', data_start = 0, fast_reader = True)\n",
    "LCC_CutOff = Table.read('/disks/strw3/jvilla/Major_JorgeVilla/Scripts/6_Light_Curve/Cut-Off_Data/LCC/LCC_Table.csv', format = 'ascii', data_start = 0, fast_reader = True)"
   ]
  },
  {
   "cell_type": "code",
   "execution_count": 3,
   "metadata": {
    "collapsed": false
   },
   "outputs": [
    {
     "name": "stdout",
     "output_type": "stream",
     "text": [
      "Done! for 186\n"
     ]
    }
   ],
   "source": [
    "Data_FITS   = []     #Fits\n",
    "Data_Tables = []     #Tables\n",
    "Name_1      = []     #Name without '_'\n",
    "Name_2      = []     #Name with '_'\n",
    "\n",
    "# for i in range (1,5):\n",
    "for i in range (1, len(LCC)):\n",
    "    #In order to use the same name as in the Table file and all the files\n",
    "    A = LCC['sourceid'][i].encode('utf-8').strip()\n",
    "    B = A.decode('utf8')\n",
    "    C = LCC['sourceid'][i].replace(u'P J',u'P_J')\n",
    "\n",
    "    #It Works for the FITS files \n",
    "    LCC_data = Table.read('/disks/strw3/jvilla/Major_JorgeVilla/Scripts/6_Light_Curve/LCC/'+B+'.fits', format = 'fits')\n",
    "    Data_FITS.append(LCC_data)\n",
    "    \n",
    "    #It works for the tables 'lc.tbl'\n",
    "    LCC_data_table = Table.read('/disks/strw3/jvilla/Major_JorgeVilla/Scripts/6_Light_Curve/LCC/'+C+'_lc.tbl', format = 'ascii')\n",
    "    Data_Tables.append(LCC_data_table)\n",
    "    \n",
    "    Name_1.append(str(B))\n",
    "    Name_2.append(str(C))\n",
    "    \n",
    "print('Done! for %i'%len(Name_1))    "
   ]
  },
  {
   "cell_type": "code",
   "execution_count": 4,
   "metadata": {
    "collapsed": false
   },
   "outputs": [
    {
     "name": "stdout",
     "output_type": "stream",
     "text": [
      "Done! for 73\n"
     ]
    }
   ],
   "source": [
    "#Same process as performed above but only for the cut-off dataset\n",
    "\n",
    "Data_FITS_CutOff   = []     #Fits\n",
    "Data_Tables_CutOff = []     #Tables\n",
    "Name_1_CutOff      = []     #Name without '_'\n",
    "Name_2_CutOff      = []     #Name with '_'\n",
    "\n",
    "# for i in range (1,5):\n",
    "for i in range (1, len(LCC_CutOff)):\n",
    "    #In order to use the same name as in the Table file and all the files\n",
    "    A = LCC_CutOff['sourceid'][i].encode('utf-8').strip()\n",
    "    B = A.decode('utf8')\n",
    "    C = LCC_CutOff['sourceid'][i].replace(u'P J',u'P_J')\n",
    "\n",
    "    #It Works for the FITS files \n",
    "    LCC_data = Table.read('/disks/strw3/jvilla/Major_JorgeVilla/Scripts/6_Light_Curve/Cut-Off_Data/LCC/'+B+'.fits', format = 'fits')\n",
    "    Data_FITS_CutOff.append(LCC_data)\n",
    "    \n",
    "    #It works for the tables 'lc.tbl'\n",
    "    LCC_data_table = Table.read('/disks/strw3/jvilla/Major_JorgeVilla/Scripts/6_Light_Curve/Cut-Off_Data/LCC/'+C+'_lc.tbl', format = 'ascii')\n",
    "    Data_Tables_CutOff.append(LCC_data_table)\n",
    "    \n",
    "    Name_1_CutOff.append(str(B))\n",
    "    Name_2_CutOff.append(str(C))\n",
    "    \n",
    "print('Done! for %i'%len(Name_1_CutOff))"
   ]
  },
  {
   "cell_type": "code",
   "execution_count": 5,
   "metadata": {
    "collapsed": false
   },
   "outputs": [],
   "source": [
    "%%capture\n",
    "\n",
    "# for i in range(0, 1):\n",
    "#     plt.figure(figsize = (12, 5))\n",
    "#     plt.scatter(Data[i]['TMID']/(np.pi * 1e7), Data[i]['FLUX2'], s = 8)\n",
    "#     plt.ylim(np.median(Data[i]['FLUX2']) - 0.051*np.median(Data[i]['FLUX2']), \n",
    "#              np.median(Data[i]['FLUX2']) + 0.051*np.median(Data[i]['FLUX2']))\n",
    "#     plt.xlabel(\"TMID [yr]\", size = 15)\n",
    "#     plt.ylabel(\"FLUX2 [micro Vega]\", size = 15)\n",
    "#     plt.tick_params(axis = 'both', which = 'major', labelsize = 15)\n",
    "#     plt.title(\"%s\"%title[i], size = 15, weight = 'semibold')\n",
    "#     print(np.median(Data[i]['FLUX2']))\n",
    "    \n",
    "# LCC_Ext = np.stack(zip(Data_1[0]['HJD'], Data_1[0]['MAG2']))\n",
    "\n",
    "# for i in range(0, 1):\n",
    "\n",
    "os.system('rm -rf /disks/strw3/jvilla/Major_JorgeVilla/Scripts/6_Light_Curve/LCC_Light_Curves/*.png')\n",
    "\n",
    "for i in range (0, len(Name_1)): \n",
    "# for i in range (0, 10):\n",
    "    \n",
    "#     plt.plot(Data_FITS[i]['TMID']/86400. + 2453005.5, Data_FITS[i]['FLUX2'])\n",
    "#     plt.scatter(Data_FITS[i]['TMID']/86400. + 2453005.5, 15 - 2.5*np.log10(Data_FITS[i]['FLUX2']))\n",
    "    \n",
    "    LCC_Ext = np.stack(zip(Data_Tables[i]['HJD'], Data_Tables[i]['TAMMAG2']))\n",
    "    \n",
    "    plt.figure(figsize = (12, 5)) \n",
    "#     plt.scatter(Data_Tables[i]['HJD'], Data_Tables[i]['MAG2'], s = 8) #To check the 0.1 selection\n",
    "#     plt.scatter(TEST['HJD'], TEST['MAG2'], c = 'k')         #To check if I was plotting the right file\n",
    "#     LCC = LCC_Ext[np.where(Data_1[0]['MAG2_ERR'] < 0.1)]\n",
    "    LCC = LCC_Ext[np.where(Data_Tables[i]['TAMMAG2_ERR'] < 0.1)]\n",
    "    \n",
    "    plt.scatter(LCC[:,0], LCC[:,1], s = 0.5)\n",
    "\n",
    "#     Phase = (LCC[:,0] - np.min(LCC[:,0]))/2453015.5 - np.floor((LCC[:,0] - np.min(LCC[:,0]))/2453015.5) \n",
    "#     plt.scatter(Phase, LCC[:,1], s = 0.5)\n",
    "#     plt.xlim(-1e-6, np.max(Phase))\n",
    "    \n",
    "#     plt.xlim(2453850, 2453940)\n",
    "#     plt.xlim(2454100, 2454350)\n",
    "#     plt.xlim(2454450, 2454600)\n",
    "    plt.ylim(np.median(LCC[:,1]) + 0.015*np.median(LCC[:,1]), np.median(LCC[:,1]) - 0.015*np.median(LCC[:,1]))\n",
    "    plt.xlabel(\"HJD [days]\", size = 15)\n",
    "    plt.ylabel(\"Magnitude [mag]\", size = 15)\n",
    "    plt.tick_params(axis = 'both', which = 'major', labelsize = 15)\n",
    "    plt.title(\"%s\"%Name_1[i], size = 15, weight = 'semibold')\n",
    "    \n",
    "    plt.savefig('/disks/strw3/jvilla/Major_JorgeVilla/Scripts/6_Light_Curve/LCC_Light_Curves/'\n",
    "                +str(Name_2[i])+'.png', bbox_inches = 'tight')"
   ]
  },
  {
   "cell_type": "code",
   "execution_count": 6,
   "metadata": {
    "collapsed": false
   },
   "outputs": [],
   "source": [
    "%%capture\n",
    "\n",
    "os.system('rm -rf /disks/strw3/jvilla/Major_JorgeVilla/Scripts/6_Light_Curve/LCC_Light_Curves_All/*.png')\n",
    "\n",
    "\n",
    "for i in range (0, len(Name_1)):\n",
    "# for i in range (0, 10):\n",
    "    \n",
    "    LCC_Ext = np.stack(zip(Data_Tables[i]['HJD'], Data_Tables[i]['TAMMAG2']))\n",
    "    LCC = LCC_Ext[np.where(Data_Tables[i]['TAMMAG2_ERR'] < 0.1)]\n",
    "    \n",
    "    fig, ((axA), (axB), (axC), (axD)) = plt.subplots(figsize = (12,16), nrows = 4, ncols = 1)\n",
    "\n",
    "    axA.scatter(LCC[:,0], LCC[:,1], s = 0.5)\n",
    "    axA.set_ylim(np.median(LCC[:,1]) + 0.015*np.median(LCC[:,1]), np.median(LCC[:,1]) - 0.015*np.median(LCC[:,1]))\n",
    "    axA.set_ylabel(\"Magnitude [mag]\", size = 15)\n",
    "    axA.tick_params(axis = 'both', which = 'major', labelsize = 15)\n",
    "    axA.set_title(\"%s\"%Name_1[i], size = 15, weight = 'semibold')\n",
    "\n",
    "    axB.scatter(LCC[:,0], LCC[:,1], s = 0.5)\n",
    "    axB.set_xlim(2453850, 2453940)\n",
    "    axB.set_ylim(np.median(LCC[:,1]) + 0.015*np.median(LCC[:,1]), np.median(LCC[:,1]) - 0.015*np.median(LCC[:,1]))\n",
    "    axB.set_ylabel(\"Magnitude [mag]\", size = 15)\n",
    "    axB.tick_params(axis = 'both', which = 'major', labelsize = 15)\n",
    "    \n",
    "    axC.scatter(LCC[:,0], LCC[:,1], s = 0.5)\n",
    "    axC.set_xlim(2454100, 2454350)\n",
    "    axC.set_ylim(np.median(LCC[:,1]) + 0.015*np.median(LCC[:,1]), np.median(LCC[:,1]) - 0.015*np.median(LCC[:,1]))\n",
    "    axC.set_ylabel(\"Magnitude [mag]\", size = 15)\n",
    "    axC.tick_params(axis = 'both', which = 'major', labelsize = 15)    \n",
    "    \n",
    "    axD.scatter(LCC[:,0], LCC[:,1], s = 0.5)\n",
    "    axD.set_xlim(2454450, 2454600)\n",
    "    axD.set_ylim(np.median(LCC[:,1]) + 0.015*np.median(LCC[:,1]), np.median(LCC[:,1]) - 0.015*np.median(LCC[:,1]))\n",
    "    axD.set_xlabel(\"HJD [days]\", size = 15)\n",
    "    axD.set_ylabel(\"Magnitude [mag]\", size = 15)\n",
    "    axD.tick_params(axis = 'both', which = 'major', labelsize = 15)\n",
    "    \n",
    "    plt.savefig('/disks/strw3/jvilla/Major_JorgeVilla/Scripts/6_Light_Curve/LCC_Light_Curves_All/'\n",
    "                +str(Name_2[i])+'_ALL.png', bbox_inches = 'tight')"
   ]
  },
  {
   "cell_type": "code",
   "execution_count": 7,
   "metadata": {
    "collapsed": false
   },
   "outputs": [],
   "source": [
    "%%capture\n",
    "\n",
    "#Cut-Off data light curves\n",
    "\n",
    "os.system('rm -rf /disks/strw3/jvilla/Major_JorgeVilla/Scripts/6_Light_Curve/Light_Curves_CutOff/LCC/*.png')\n",
    "\n",
    "for i in range (0, len(Name_1_CutOff)): \n",
    "    \n",
    "    LCC_Ext = np.stack(zip(Data_Tables_CutOff[i]['HJD'], Data_Tables_CutOff[i]['TAMMAG2']))\n",
    "    \n",
    "    plt.figure(figsize = (12, 5)) \n",
    "\n",
    "    LCC = LCC_Ext[np.where(Data_Tables_CutOff[i]['TAMMAG2_ERR'] < 0.1)]\n",
    "    \n",
    "    plt.scatter(LCC[:,0], LCC[:,1], s = 0.5)\n",
    "\n",
    "    plt.ylim(np.median(LCC[:,1]) + 0.015*np.median(LCC[:,1]), np.median(LCC[:,1]) - 0.015*np.median(LCC[:,1]))\n",
    "    plt.xlabel(\"HJD [days]\", size = 15)\n",
    "    plt.ylabel(\"Magnitude [mag]\", size = 15)\n",
    "    plt.tick_params(axis = 'both', which = 'major', labelsize = 15)\n",
    "    plt.title(\"%s\"%Name_1_CutOff[i], size = 15, weight = 'semibold')\n",
    "    \n",
    "    plt.savefig('/disks/strw3/jvilla/Major_JorgeVilla/Scripts/6_Light_Curve/Light_Curves_CutOff/LCC/'\n",
    "                +str(Name_2_CutOff[i])+'.png', bbox_inches = 'tight')\n",
    "    \n",
    "os.system('rm -rf /disks/strw3/jvilla/Major_JorgeVilla/Scripts/6_Light_Curve/Light_Curves_CutOff/LCC_All/*.png')\n",
    "\n",
    "for i in range (0, len(Name_1_CutOff)):\n",
    "    \n",
    "    LCC_Ext = np.stack(zip(Data_Tables_CutOff[i]['HJD'], Data_Tables_CutOff[i]['TAMMAG2']))\n",
    "    LCC = LCC_Ext[np.where(Data_Tables_CutOff[i]['TAMMAG2_ERR'] < 0.1)]\n",
    "    \n",
    "    fig, ((axA), (axB), (axC), (axD)) = plt.subplots(figsize = (12,16), nrows = 4, ncols = 1)\n",
    "\n",
    "    axA.scatter(LCC[:,0], LCC[:,1], s = 0.5)\n",
    "    axA.set_ylim(np.median(LCC[:,1]) + 0.015*np.median(LCC[:,1]), np.median(LCC[:,1]) - 0.015*np.median(LCC[:,1]))\n",
    "    axA.set_ylabel(\"Magnitude [mag]\", size = 15)\n",
    "    axA.tick_params(axis = 'both', which = 'major', labelsize = 15)\n",
    "    axA.set_title(\"%s\"%Name_1_CutOff[i], size = 15, weight = 'semibold')\n",
    "\n",
    "    axB.scatter(LCC[:,0], LCC[:,1], s = 0.5)\n",
    "    axB.set_xlim(2453850, 2453940)\n",
    "    axB.set_ylim(np.median(LCC[:,1]) + 0.015*np.median(LCC[:,1]), np.median(LCC[:,1]) - 0.015*np.median(LCC[:,1]))\n",
    "    axB.set_ylabel(\"Magnitude [mag]\", size = 15)\n",
    "    axB.tick_params(axis = 'both', which = 'major', labelsize = 15)\n",
    "    \n",
    "    axC.scatter(LCC[:,0], LCC[:,1], s = 0.5)\n",
    "    axC.set_xlim(2454100, 2454350)\n",
    "    axC.set_ylim(np.median(LCC[:,1]) + 0.015*np.median(LCC[:,1]), np.median(LCC[:,1]) - 0.015*np.median(LCC[:,1]))\n",
    "    axC.set_ylabel(\"Magnitude [mag]\", size = 15)\n",
    "    axC.tick_params(axis = 'both', which = 'major', labelsize = 15)    \n",
    "    \n",
    "    axD.scatter(LCC[:,0], LCC[:,1], s = 0.5)\n",
    "    axD.set_xlim(2454450, 2454600)\n",
    "    axD.set_ylim(np.median(LCC[:,1]) + 0.015*np.median(LCC[:,1]), np.median(LCC[:,1]) - 0.015*np.median(LCC[:,1]))\n",
    "    axD.set_xlabel(\"HJD [days]\", size = 15)\n",
    "    axD.set_ylabel(\"Magnitude [mag]\", size = 15)\n",
    "    axD.tick_params(axis = 'both', which = 'major', labelsize = 15)\n",
    "    \n",
    "    plt.savefig('/disks/strw3/jvilla/Major_JorgeVilla/Scripts/6_Light_Curve/Light_Curves_CutOff/LCC_All/'\n",
    "                +str(Name_2_CutOff[i])+'_ALL.png', bbox_inches = 'tight')   "
   ]
  },
  {
   "cell_type": "code",
   "execution_count": null,
   "metadata": {
    "collapsed": true
   },
   "outputs": [],
   "source": []
  }
 ],
 "metadata": {
  "kernelspec": {
   "display_name": "Python 3",
   "language": "python",
   "name": "python3"
  },
  "language_info": {
   "codemirror_mode": {
    "name": "ipython",
    "version": 3
   },
   "file_extension": ".py",
   "mimetype": "text/x-python",
   "name": "python",
   "nbconvert_exporter": "python",
   "pygments_lexer": "ipython3",
   "version": "3.6.4"
  }
 },
 "nbformat": 4,
 "nbformat_minor": 2
}
