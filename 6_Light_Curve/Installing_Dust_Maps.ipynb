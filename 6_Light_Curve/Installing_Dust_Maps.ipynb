{
 "cells": [
  {
   "cell_type": "code",
   "execution_count": 1,
   "metadata": {
    "collapsed": true
   },
   "outputs": [],
   "source": [
    "from dustmaps.config import config\n",
    "config['data_dir'] = '/disks/strw3/jvilla/Major_JorgeVilla/Scripts/Dust_Maps'"
   ]
  },
  {
   "cell_type": "code",
   "execution_count": 2,
   "metadata": {
    "collapsed": false
   },
   "outputs": [
    {
     "name": "stdout",
     "output_type": "stream",
     "text": [
      "Downloading SFD data file to /disks/strw3/jvilla/Major_JorgeVilla/Scripts/Dust_Maps/sfd/SFD_dust_4096_ngp.fits\n",
      "Downloading data to '/disks/strw3/jvilla/Major_JorgeVilla/Scripts/Dust_Maps/sfd/SFD_dust_4096_ngp.fits' ...\n"
     ]
    },
    {
     "name": "stderr",
     "output_type": "stream",
     "text": [
      " 63.8 MiB of 64.0 MiB |   3.8 MiB/s |################### |  99% | ETA:  0:00:00"
     ]
    },
    {
     "name": "stdout",
     "output_type": "stream",
     "text": [
      "Downloading SFD data file to /disks/strw3/jvilla/Major_JorgeVilla/Scripts/Dust_Maps/sfd/SFD_dust_4096_sgp.fits\n",
      "Downloading data to '/disks/strw3/jvilla/Major_JorgeVilla/Scripts/Dust_Maps/sfd/SFD_dust_4096_sgp.fits' ...\n"
     ]
    },
    {
     "name": "stderr",
     "output_type": "stream",
     "text": [
      " 63.7 MiB of 64.0 MiB |   5.3 MiB/s |################### |  99% | ETA:  0:00:00"
     ]
    }
   ],
   "source": [
    "import dustmaps.sfd\n",
    "dustmaps.sfd.fetch()"
   ]
  },
  {
   "cell_type": "code",
   "execution_count": 3,
   "metadata": {
    "collapsed": false
   },
   "outputs": [
    {
     "name": "stderr",
     "output_type": "stream",
     "text": [
      "/usr/lib64/python3.6/site-packages/h5py/__init__.py:36: FutureWarning: Conversion of the second argument of issubdtype from `float` to `np.floating` is deprecated. In future, it will be treated as `np.float64 == np.dtype(float).type`.\n",
      "  from ._conv import register_converters as _register_converters\n"
     ]
    },
    {
     "name": "stdout",
     "output_type": "stream",
     "text": [
      "Downloading data to '/disks/strw3/jvilla/Major_JorgeVilla/Scripts/Dust_Maps/bayestar/bayestar2017.h5' ...\n"
     ]
    },
    {
     "name": "stderr",
     "output_type": "stream",
     "text": [
      "  4.3 GiB of 4.3 GiB |   4.3 MiB/s |#################### |  99% | ETA:  0:00:00"
     ]
    }
   ],
   "source": [
    "import dustmaps.bayestar\n",
    "dustmaps.bayestar.fetch()"
   ]
  },
  {
   "cell_type": "code",
   "execution_count": 2,
   "metadata": {
    "collapsed": false
   },
   "outputs": [
    {
     "name": "stderr",
     "output_type": "stream",
     "text": [
      "/usr/lib64/python3.6/site-packages/h5py/__init__.py:36: FutureWarning: Conversion of the second argument of issubdtype from `float` to `np.floating` is deprecated. In future, it will be treated as `np.float64 == np.dtype(float).type`.\n",
      "  from ._conv import register_converters as _register_converters\n"
     ]
    },
    {
     "name": "stdout",
     "output_type": "stream",
     "text": [
      "Downloading http://lamost973.pku.edu.cn/site/Photometric-Extinctions-and-Distances/table2.dat\n"
     ]
    },
    {
     "name": "stderr",
     "output_type": "stream",
     "text": [
      "470.0 MiB of 470.0 MiB | 439.0 KiB/s |################## |  99% | ETA:  0:00:00"
     ]
    },
    {
     "name": "stdout",
     "output_type": "stream",
     "text": [
      "Repacking files...\n"
     ]
    },
    {
     "name": "stderr",
     "output_type": "stream",
     "text": [
      "/home/jvilla/.local/lib/python3.6/site-packages/dustmaps/chen2014.py:204: RuntimeWarning: invalid value encountered in less\n",
      "  idx = ~np.all(table[:,2:32] < 1.e-5, axis=1)\n"
     ]
    },
    {
     "name": "stdout",
     "output_type": "stream",
     "text": [
      "Removing original file...\n"
     ]
    }
   ],
   "source": [
    "import dustmaps.chen2014\n",
    "dustmaps.chen2014.fetch()"
   ]
  },
  {
   "cell_type": "code",
   "execution_count": 4,
   "metadata": {
    "collapsed": false
   },
   "outputs": [],
   "source": [
    "#This does not work. \n",
    "\n",
    "#Try this one: https://wiki.cosmos.esa.int/planckpla/index.php/CMB_and_astrophysical_component_maps#The_.5Bmath.5DE.28B-V.29.5B.2Fmath.5D_map_for_extra-galactic_studies\n",
    "#              http://irsa.ipac.caltech.edu/data/Planck/release_1/all-sky-maps/maps/\n",
    "# import dustmaps.planck\n",
    "# dustmaps.planck.fetch()"
   ]
  },
  {
   "cell_type": "code",
   "execution_count": null,
   "metadata": {
    "collapsed": true
   },
   "outputs": [],
   "source": []
  }
 ],
 "metadata": {
  "kernelspec": {
   "display_name": "Python 3",
   "language": "python",
   "name": "python3"
  },
  "language_info": {
   "codemirror_mode": {
    "name": "ipython",
    "version": 3
   },
   "file_extension": ".py",
   "mimetype": "text/x-python",
   "name": "python",
   "nbconvert_exporter": "python",
   "pygments_lexer": "ipython3",
   "version": "3.6.4"
  }
 },
 "nbformat": 4,
 "nbformat_minor": 2
}
