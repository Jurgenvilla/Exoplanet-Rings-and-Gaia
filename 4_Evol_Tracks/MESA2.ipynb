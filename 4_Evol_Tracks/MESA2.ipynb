{
 "cells": [
  {
   "cell_type": "code",
   "execution_count": 1,
   "metadata": {
    "collapsed": false
   },
   "outputs": [
    {
     "name": "stdout",
     "output_type": "stream",
     "text": [
      "Using matplotlib backend: TkAgg\n",
      "Populating the interactive namespace from numpy and matplotlib\n"
     ]
    }
   ],
   "source": [
    "%pylab"
   ]
  },
  {
   "cell_type": "code",
   "execution_count": 2,
   "metadata": {
    "collapsed": true
   },
   "outputs": [],
   "source": [
    "from astropy.table import Table\n",
    "import astropy.units as u\n",
    "from astropy import constants as const\n",
    "mpl.rcParams['text.usetex'] = True"
   ]
  },
  {
   "cell_type": "code",
   "execution_count": 3,
   "metadata": {
    "collapsed": false
   },
   "outputs": [],
   "source": [
    "mu    = 1.0/(2.0*0.7 + (3.0/4.0)*0.28 + 0.02/2. )\n",
    "mu_e  = 2.0/(1 + 0.7)\n",
    "Rho_c = 1e6*mu_e\n",
    "G = const.G.cgs.value#6.6743e-8\n",
    "R = const.R.cgs.value#8.31447e7\n",
    "C = 0.48#0.3639385751673097\n",
    "M = 2*const.M_sun.cgs.value#2.0*1.9884e33 \n",
    "x = np.linspace(1e-10,1e10,10000)\n",
    "y = np.linspace(1e-10, Rho_c, 10000)\n",
    "z = np.linspace(Rho_c, 1e10, 10000)\n",
    "xT = np.linspace(1e5,1e9,1000)\n",
    "def Rad_IdealGas(X):\n",
    "    return 3.2e7*X**(1./3.)*mu**(-1./3.)\n",
    "\n",
    "def NR_IdealGas(Y):\n",
    "    return 1.21e5*mu*mu_e**(-5./3.)*Y**(2./3.)\n",
    "\n",
    "def ER_IdealGas(Z):\n",
    "    return 1.21e7*mu*mu_e**(-4./3.)*Z**(1./3.)\n",
    "\n",
    "Sun = [150, 15.7e6]\n",
    "\n",
    "def Evolution_Track(rho, c, g, r,mass):\n",
    "    return (c*g/r)*mu*mass**(2./3.)*rho**(1./3.)\n",
    "\n",
    "def Evolution_Track2(Tem, c, g, r,mass):\n",
    "    return ((Tem*r)/(c*g*mu*(M**(2./3.))))**(3.)"
   ]
  },
  {
   "cell_type": "markdown",
   "metadata": {},
   "source": [
    "## Evolution of the core"
   ]
  },
  {
   "cell_type": "code",
   "execution_count": 4,
   "metadata": {
    "collapsed": true
   },
   "outputs": [],
   "source": [
    "PP=[]\n",
    "PH=[]\n",
    "for i in range(1,1179):\n",
    "    A=Table.read('/disks/strw3/jvilla/MESA_Juan_Jorge/2M_prems_to_wd/LOGS/profile'+str(i)+'.data',format='ascii',data_start=5,fast_reader=True)\n",
    "    B=Table.read('/disks/strw3/jvilla/MESA_Juan_Jorge/2M_prems_to_wd/LOGS/profile'+str(i)+'.data',format='ascii',data_start=1,data_end=3,fast_reader=True)\n",
    "    PP.append(A)\n",
    "    PH.append(B)"
   ]
  },
  {
   "cell_type": "code",
   "execution_count": 5,
   "metadata": {
    "collapsed": false
   },
   "outputs": [],
   "source": [
    "# savetxt('Columns.txt',PP)\n",
    "# savetxt('Rows.txt',PH)\n",
    "# # PP=loadtxt('Columns.txt')\n",
    "# # PH=loadtxt('Rows.txt')"
   ]
  },
  {
   "cell_type": "code",
   "execution_count": 20,
   "metadata": {
    "collapsed": false
   },
   "outputs": [],
   "source": [
    "figure(figsize=(16,12))\n",
    "\n",
    "cmap = cm.get_cmap('rainbow', 40)\n",
    "\n",
    "for i in range(1,len(PP)):\n",
    "    if PH[i]['col5'][1] < 1.1e4:\n",
    "        pa=scatter(PP[i]['col2'][-1],PP[i]['col3'][-1], s = 38, edgecolors='none', c=(float(PH[i]['col5'][1])),cmap=cmap, \n",
    "                   norm=matplotlib.colors.PowerNorm(gamma = 2., vmin=1e0, vmax=1e4))\n",
    "        \n",
    "    elif PH[i]['col5'][1] > 1.1e5 and PH[i]['col5'][1] < 8e5: \n",
    "        pa=scatter(PP[i]['col2'][-1],PP[i]['col3'][-1], s = 38, edgecolors='none', c=(float(PH[i]['col5'][1])),cmap=cmap, \n",
    "                   norm=matplotlib.colors.PowerNorm(gamma = 2., vmin=1.1e4, vmax=8e5))\n",
    "        \n",
    "    elif PH[i]['col5'][1] > 8e5: \n",
    "        pa=scatter(PP[i]['col2'][-1],PP[i]['col3'][-1], s = 38, edgecolors='none', c=(float(PH[i]['col5'][1])),cmap=cmap, \n",
    "                   norm=matplotlib.colors.PowerNorm(gamma = 2., vmin=8e5, vmax=1.2e9))        \n",
    "    \n",
    "tick_params('both', length = 10, width = 2, which = 'major')\n",
    "rc('font', family='serif', weight = 'bold', size=20)    \n",
    "cba = plt.colorbar(pa,orientation=\"vertical\",  pad = 0.0008, aspect=30, fraction=0.05 )\n",
    "cba.set_label('Age [Gyr]')\n",
    "plt.plot(np.log10(xT),np.log10(Evolution_Track2(xT,C,G,R,M)),'-',color = 'k',label=r'2$\\textrm{M}_\\odot$ Model', linewidth = 0.7)   \n",
    "plt.hlines(np.log10(Rho_c),-2,8.8, linestyle='--',color = 'green', linewidth = 2)\n",
    "plt.plot(np.log10(Rad_IdealGas(x)),np.log10(x), '--',color = 'blue', linewidth = 2)\n",
    "plt.plot(np.log10(NR_IdealGas(y)), np.log10(y),'--',color = 'orange', linewidth = 2)\n",
    "plt.plot(np.log10(ER_IdealGas(z)),np.log10(z), '--',color = 'black', linewidth = 2)   \n",
    "plot(np.log10(Sun[1]),np.log10(Sun[0]), 'o', c = 'orange',ms=8, label='Solar Core')\n",
    "plt.xlabel('$\\log(T_c)$', fontsize = 20, fontweight = 'bold')\n",
    "plt.ylabel(r'$\\log(\\rho_c)$', fontsize = 20, fontweight = 'bold')\n",
    "plt.xlim(5.3,9)\n",
    "plt.ylim(-4,7.4)\n",
    "#annotate('H ignition', xy=(7.15, 1.7), xytext=(6.6, 1.74),\n",
    "  #       arrowprops=dict(arrowstyle=\"fancy\",color=\"0.5\",connectionstyle=\"arc3,rad=-0.2\"))\n",
    "#annotate('He ignition', xy=(7.9, 5.8), xytext=(7.06, 5.5),\n",
    " #        arrowprops=dict(arrowstyle=\"fancy\",color=\"0.5\",connectionstyle=\"arc3,rad=-0.2\"))\n",
    "#text(6.33, -1.72,'Pre-main sequence',  ha=\"center\", va=\"center\", rotation=45)\n",
    "#text(7.41, 1.71,'Main sequence',  ha=\"center\", va=\"center\", rotation=45)\n",
    "#text(7.54, 4.88,'Red Giant Branch',  ha=\"center\", va=\"center\", rotation=30)\n",
    "#text(8.04, 4.19,'Helium flash',  ha=\"center\", va=\"center\")\n",
    "#text(7.84, 6.61,'<-- To white dwarf',  ha=\"center\", va=\"center\")\n",
    "legend(frameon = False, loc = 'lower right')\n",
    "# title(r'Evolution of the core in the logT$_c$ - log $\\rho_c$ plane')\n",
    "savefig('1.png',dpi=300,bbox_inches='tight')"
   ]
  },
  {
   "cell_type": "markdown",
   "metadata": {},
   "source": [
    "## HR diagram"
   ]
  },
  {
   "cell_type": "code",
   "execution_count": 19,
   "metadata": {
    "collapsed": false
   },
   "outputs": [],
   "source": [
    "figure(figsize=(16,12))\n",
    "\n",
    "cmap = cm.get_cmap('rainbow', 40)\n",
    "\n",
    "'''for i in range(47,len(PP)):\n",
    "    pa=scatter(log10(float(PH[i]['col7'][-1])),log10(float(PH[i]['col8'][-1])),\n",
    "               c=(float(PH[i]['col5'][1])),cmap='coolwarm',\n",
    "               norm=matplotlib.colors.PowerNorm(gamma=4.,vmin=1e8, vmax=1.2e9))\n",
    "for i in range(1,47):\n",
    "    pb=scatter(log10(float(PH[i]['col7'][-1])),log10(float(PH[i]['col8'][-1])),\n",
    "               c=(float(PH[i]['col5'][1])),cmap='YlGnBu',\n",
    "               norm=matplotlib.colors.PowerNorm(gamma=1./4.,vmin=0, vmax=1e8))'''\n",
    "\n",
    "for i in range(1,len(PP)):\n",
    "    if PH[i]['col5'][1] < 1.1e4:\n",
    "        pa=scatter(log10(float(PH[i]['col7'][-1])),log10(float(PH[i]['col8'][-1])), s = 38, edgecolors='none', c=(float(PH[i]['col5'][1])),cmap=cmap, \n",
    "                   norm=matplotlib.colors.PowerNorm(gamma = 2., vmin=1e0, vmax=1e4))\n",
    "        \n",
    "    elif PH[i]['col5'][1] > 1.1e5 and PH[i]['col5'][1] < 8e5: \n",
    "        pa=scatter(log10(float(PH[i]['col7'][-1])),log10(float(PH[i]['col8'][-1])), s = 38, edgecolors='none', c=(float(PH[i]['col5'][1])),cmap=cmap, \n",
    "                   norm=matplotlib.colors.PowerNorm(gamma = 2., vmin=1.1e4, vmax=8e5))\n",
    "        \n",
    "    elif PH[i]['col5'][1] > 8e5: \n",
    "        pa=scatter(log10(float(PH[i]['col7'][-1])),log10(float(PH[i]['col8'][-1])), s = 38, edgecolors='none', c=(float(PH[i]['col5'][1])),cmap=cmap, \n",
    "                   norm=matplotlib.colors.PowerNorm(gamma = 2., vmin=8e5, vmax=1.2e9))\n",
    "        \n",
    "    \n",
    "tick_params('both', length = 10, width = 2, which = 'major')\n",
    "rc('font', family='serif', weight = 'bold', size=20)    \n",
    "cba = plt.colorbar(pa,orientation=\"vertical\",  pad = 0.0008, aspect=30, fraction=0.05 )  \n",
    "cba.set_label('Age [Gyr]')\n",
    "xlim(5.18,3.4)\n",
    "ylim(-0.97, 4.1)\n",
    "ylabel(r'$\\log(L/L_\\odot)$', fontsize = 20, fontweight = 'bold')\n",
    "xlabel(r'$\\log(T_{eff})$', fontsize = 20, fontweight = 'bold')\n",
    "# title(r'Hertzsprung-Russel diagram')\n",
    "#text(3.63, 1.94,'Pre-main sequence',  ha=\"center\", va=\"center\", rotation=50)\n",
    "#text(3.96, 1.08,'Main sequence',  ha=\"center\", va=\"center\", rotation=-30)\n",
    "#text(3.65, 2.44,'Red Giant Branch',  ha=\"center\", va=\"center\", rotation=50)\n",
    "# annotate('Deuterium burning', xy=(3.72, 0.62), xytext=(3.72, 0.62),arrowprops=dict(facecolor='black', shrink=0.001))\n",
    "#text(3.45, 3.35,'Helium flash',  ha=\"center\", va=\"center\")\n",
    "#text(3.81, 1.57,'Hydrogen-shell burning phase',  ha=\"center\", va=\"center\")\n",
    "#text(3.68, 3.7,'<-- To white dwarf',  ha=\"center\", va=\"center\")\n",
    "savefig('2.png',dpi=300,bbox_inches='tight')"
   ]
  },
  {
   "cell_type": "markdown",
   "metadata": {},
   "source": [
    "## Convection pre-main"
   ]
  },
  {
   "cell_type": "code",
   "execution_count": 18,
   "metadata": {
    "collapsed": false
   },
   "outputs": [],
   "source": [
    "file=28\n",
    "figure(figsize=(16,12))\n",
    "plot(PP[file]['col24'],log10(PP[file]['col32']),label=r'$\\Delta_{ad}$', c = 'orange', linewidth = 2)\n",
    "plot(PP[file]['col24'],log10(PP[file]['col61']),label=r'$\\Delta_{rad}$', c = 'blue', linewidth = 2)\n",
    "fill_between(PP[file]['col24'], min(min(log10(PP[file]['col32'])),min(log10(PP[file]['col61'])))-.1,\n",
    "             max(max(log10(PP[file]['col32'])),max(log10(PP[file]['col61'])))+.1,\n",
    "             where=log10(PP[file]['col61']) > log10(PP[file]['col32']),\n",
    "             color='green',alpha=0.18,label='Convective Zone')\n",
    "xlim(-0.2, 12.2)\n",
    "ylim(-1.24, 6)\n",
    "ylabel(r'$\\Delta$')\n",
    "xlabel(r'$R/R_\\odot$')\n",
    "#legend(frameon = True, loc = (11.5, 4.5))\n",
    "legend(frameon = True, loc = 'upper left')\n",
    "# title('Convection in the pre-main sequence phase')\n",
    "savefig('3.png',dpi=300,bbox_inches='tight')"
   ]
  },
  {
   "cell_type": "markdown",
   "metadata": {},
   "source": [
    "## Convection main sequence"
   ]
  },
  {
   "cell_type": "code",
   "execution_count": 43,
   "metadata": {
    "collapsed": false
   },
   "outputs": [],
   "source": [
    "file=49\n",
    "figure(figsize=(16,12))\n",
    "plot(PP[file]['col24'],log10(PP[file]['col32']),label=r'$\\Delta_{ad}$', c = 'orange', linewidth = 2)\n",
    "plot(PP[file]['col24'],log10(PP[file]['col61']),label=r'$\\Delta_{rad}$', c = 'blue', linewidth = 2)\n",
    "fill_between(PP[file]['col24'], min(min(log10(PP[file]['col32'])),min(log10(PP[file]['col61'])))-.1,\n",
    "             max(max(log10(PP[file]['col32'])),max(log10(PP[file]['col61'])))+.1,\n",
    "             where=log10(PP[file]['col61']) > log10(PP[file]['col32']),\n",
    "             color='green',alpha=0.18,label='Convective Zone')\n",
    "xlim(0,2.45)\n",
    "ylim(-1.23, 0.3)\n",
    "ylabel(r'$\\Delta$')\n",
    "xlabel(r'$R/R_\\odot$')\n",
    "legend(frameon = True, loc = 'upper center')\n",
    "# title('Convection in the main sequence phase')\n",
    "savefig('4.png',dpi=300,bbox_inches='tight')"
   ]
  },
  {
   "cell_type": "code",
   "execution_count": null,
   "metadata": {
    "collapsed": true
   },
   "outputs": [],
   "source": []
  }
 ],
 "metadata": {
  "kernelspec": {
   "display_name": "Python 3",
   "language": "python",
   "name": "python3"
  },
  "language_info": {
   "codemirror_mode": {
    "name": "ipython",
    "version": 3
   },
   "file_extension": ".py",
   "mimetype": "text/x-python",
   "name": "python",
   "nbconvert_exporter": "python",
   "pygments_lexer": "ipython3",
   "version": "3.6.4"
  }
 },
 "nbformat": 4,
 "nbformat_minor": 2
}
