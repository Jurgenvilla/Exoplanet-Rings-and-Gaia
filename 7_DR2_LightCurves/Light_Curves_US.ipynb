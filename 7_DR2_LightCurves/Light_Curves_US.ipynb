{
 "cells": [
  {
   "cell_type": "code",
   "execution_count": 1,
   "metadata": {
    "collapsed": true
   },
   "outputs": [],
   "source": [
    "# -*- coding: utf-8 -*-\n",
    "\n",
    "import numpy as np\n",
    "import matplotlib.pyplot as plt\n",
    "from astropy.table import Table\n",
    "import sys\n",
    "import struct\n",
    "import math\n",
    "import os\n",
    "\n",
    "%matplotlib inline"
   ]
  },
  {
   "cell_type": "code",
   "execution_count": 2,
   "metadata": {
    "collapsed": true
   },
   "outputs": [],
   "source": [
    "#Files with cut and without cut-off \n",
    "\n",
    "US_CutOff = Table.read('/disks/strw3/jvilla/Major_JorgeVilla/Scripts/7_DR2_LightCurves/US/US_Table.csv', format = 'ascii', data_start = 0, fast_reader = True)"
   ]
  },
  {
   "cell_type": "code",
   "execution_count": null,
   "metadata": {
    "collapsed": false
   },
   "outputs": [
    {
     "name": "stdout",
     "output_type": "stream",
     "text": [
      "Done! for 1417\n"
     ]
    }
   ],
   "source": [
    "#Same process as performed above but only for the cut-off dataset\n",
    "\n",
    "Data_FITS_CutOff   = []     #Fits\n",
    "Data_Tables_CutOff = []     #Tables\n",
    "Name_1_CutOff      = []     #Name without '_'\n",
    "Name_2_CutOff      = []     #Name with '_'\n",
    "\n",
    "# for i in range (1,5):\n",
    "for i in range (1, len(US_CutOff)):\n",
    "    #In order to use the same name as in the Table file and all the files\n",
    "    A = US_CutOff['sourceid'][i].encode('utf-8').strip()\n",
    "    B = A.decode('utf8')\n",
    "    C = US_CutOff['sourceid'][i].replace(u'P J',u'P_J')\n",
    "\n",
    "    #It Works for the FITS files \n",
    "    US_data = Table.read('/disks/strw3/jvilla/Major_JorgeVilla/Scripts/7_DR2_LightCurves/US/'+B+'.fits', format = 'fits')\n",
    "    Data_FITS_CutOff.append(US_data)\n",
    "    \n",
    "    #It works for the tables 'lc.tbl'\n",
    "    US_data_table = Table.read('/disks/strw3/jvilla/Major_JorgeVilla/Scripts/7_DR2_LightCurves/US/'+C+'_lc.tbl', format = 'ascii')\n",
    "    Data_Tables_CutOff.append(US_data_table)\n",
    "    \n",
    "    Name_1_CutOff.append(str(B))\n",
    "    Name_2_CutOff.append(str(C))\n",
    "    \n",
    "print('Done! for %i'%len(Name_1_CutOff))"
   ]
  },
  {
   "cell_type": "code",
   "execution_count": null,
   "metadata": {
    "collapsed": false
   },
   "outputs": [],
   "source": [
    "%%capture\n",
    "\n",
    "#Cut-Off data light curves\n",
    "\n",
    "os.system('rm -rf /disks/strw3/jvilla/Major_JorgeVilla/Scripts/7_DR2_LightCurves/Light_Curves_CutOff/US/*.png')\n",
    "\n",
    "for i in range (0, len(Name_1_CutOff)): \n",
    "    \n",
    "    US_Ext = np.stack(zip(Data_Tables_CutOff[i]['HJD'], Data_Tables_CutOff[i]['TAMMAG2']))\n",
    "    \n",
    "    plt.figure(figsize = (12, 5)) \n",
    "\n",
    "    US = US_Ext[np.where(Data_Tables_CutOff[i]['TAMMAG2_ERR'] < 0.1) and\\\n",
    "                          np.where(Data_Tables_CutOff[i]['TAMMAG2'] >= -30) and\\\n",
    "                np.where(Data_Tables_CutOff[i]['TAMMAG2'] <= 30)]\n",
    "    \n",
    "    Min   = np.nanmedian(US[:,1]) + 0.6\n",
    "    Max   = np.nanmedian(US[:,1]) - 0.6\n",
    "    \n",
    "    plt.scatter(US[:,0], US[:,1], s = 0.5)\n",
    "\n",
    "    plt.ylim(Min, Max)\n",
    "    plt.xlabel(\"HJD [days]\", size = 15)\n",
    "    plt.ylabel(\"Magnitude [mag]\", size = 15)\n",
    "    plt.tick_params(axis = 'both', which = 'major', labelsize = 15)\n",
    "    plt.title(\"%s\"%Name_1_CutOff[i], size = 15, weight = 'semibold')\n",
    "    \n",
    "    plt.savefig('/disks/strw3/jvilla/Major_JorgeVilla/Scripts/7_DR2_LightCurves/Light_Curves_CutOff/US/'\n",
    "                +str(Name_2_CutOff[i])+'.png', bbox_inches = 'tight')\n",
    "    \n",
    "os.system('rm -rf /disks/strw3/jvilla/Major_JorgeVilla/Scripts/7_DR2_LightCurves/Light_Curves_CutOff/US_All/*.png')\n",
    "\n",
    "for i in range (0, len(Name_1_CutOff)):\n",
    "    \n",
    "    US_Ext = np.stack(zip(Data_Tables_CutOff[i]['HJD'], Data_Tables_CutOff[i]['TAMMAG2']))\n",
    "    US     = US_Ext[np.where(Data_Tables_CutOff[i]['TAMMAG2_ERR'] < 0.1) and\\\n",
    "                          np.where(Data_Tables_CutOff[i]['TAMMAG2'] >= -30) and\\\n",
    "                np.where(Data_Tables_CutOff[i]['TAMMAG2'] <= 30)]\n",
    "    \n",
    "    Min   = np.nanmedian(US[:,1]) + 0.6\n",
    "    Max   = np.nanmedian(US[:,1]) - 0.6\n",
    "    \n",
    "    Min_1 = np.nanmedian(US[:,1]) + 0.3\n",
    "    Max_1 = np.nanmedian(US[:,1]) - 0.3\n",
    "    \n",
    "    fig, ((axA), (axB), (axC), (axD)) = plt.subplots(figsize = (12,16), nrows = 4, ncols = 1)\n",
    "\n",
    "    axA.scatter(US[:,0], US[:,1], s = 0.5)\n",
    "    axA.set_ylim(Min, Max)\n",
    "    axA.set_ylabel(\"Magnitude [mag]\", size = 15)\n",
    "    axA.tick_params(axis = 'both', which = 'major', labelsize = 15)\n",
    "    axA.set_title(\"%s\"%Name_1_CutOff[i], size = 15, weight = 'semibold')\n",
    "\n",
    "    axB.scatter(US[:,0], US[:,1], s = 0.5)\n",
    "    axB.set_xlim(2453850, 2453940)\n",
    "    axB.set_ylim(Min_1, Max_1)\n",
    "    axB.set_ylabel(\"Magnitude [mag]\", size = 15)\n",
    "    axB.tick_params(axis = 'both', which = 'major', labelsize = 15)\n",
    "    \n",
    "    axC.scatter(US[:,0], US[:,1], s = 0.5)\n",
    "    axC.set_xlim(2454100, 2454350)\n",
    "    axC.set_ylim(Min_1, Max_1)\n",
    "    axC.set_ylabel(\"Magnitude [mag]\", size = 15)\n",
    "    axC.tick_params(axis = 'both', which = 'major', labelsize = 15)    \n",
    "    \n",
    "    axD.scatter(US[:,0], US[:,1], s = 0.5)\n",
    "    axD.set_xlim(2454450, 2454600)\n",
    "    axD.set_ylim(Min_1, Max_1)\n",
    "    axD.set_xlabel(\"HJD [days]\", size = 15)\n",
    "    axD.set_ylabel(\"Magnitude [mag]\", size = 15)\n",
    "    axD.tick_params(axis = 'both', which = 'major', labelsize = 15)\n",
    "    \n",
    "    plt.savefig('/disks/strw3/jvilla/Major_JorgeVilla/Scripts/7_DR2_LightCurves/Light_Curves_CutOff/US_All/'\n",
    "                +str(Name_2_CutOff[i])+'_ALL.png', bbox_inches = 'tight')   "
   ]
  },
  {
   "cell_type": "code",
   "execution_count": null,
   "metadata": {
    "collapsed": true
   },
   "outputs": [],
   "source": []
  }
 ],
 "metadata": {
  "kernelspec": {
   "display_name": "Python 3",
   "language": "python",
   "name": "python3"
  },
  "language_info": {
   "codemirror_mode": {
    "name": "ipython",
    "version": 3
   },
   "file_extension": ".py",
   "mimetype": "text/x-python",
   "name": "python",
   "nbconvert_exporter": "python",
   "pygments_lexer": "ipython3",
   "version": "3.6.5"
  }
 },
 "nbformat": 4,
 "nbformat_minor": 2
}
