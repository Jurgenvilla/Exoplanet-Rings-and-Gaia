{
 "cells": [
  {
   "cell_type": "code",
   "execution_count": 1,
   "metadata": {
    "collapsed": false
   },
   "outputs": [
    {
     "name": "stdout",
     "output_type": "stream",
     "text": [
      "Created TAP+ (v1.0) - Connection:\n",
      "\tHost: gea.esac.esa.int\n",
      "\tUse HTTPS: False\n",
      "\tPort: 80\n",
      "\tSSL Port: 443\n"
     ]
    }
   ],
   "source": [
    "import numpy as np\n",
    "import matplotlib.pyplot as plt\n",
    "from astropy.table import Table\n",
    "from astroquery.gaia import Gaia\n",
    "\n",
    "%matplotlib inline"
   ]
  },
  {
   "cell_type": "code",
   "execution_count": 2,
   "metadata": {
    "collapsed": false
   },
   "outputs": [
    {
     "name": "stdout",
     "output_type": "stream",
     "text": [
      "Executing Gaia Query for LCC, UCL and US\n",
      "Launched query: 'SELECT gaia.source_id, gaia.ra, gaia.ra_error, gaia.dec, gaia.dec_error, gaia.parallax, gaia.parallax_error, gaia.l, gaia.b, gaia.phot_g_mean_mag+5*log10(gaia.parallax)-10 AS g_mag_abs, gaia.phot_g_mean_mag-tmass.ks_m AS g_min_ks, gaia.pmra, gaia.pmra_error, gaia.pmdec, gaia.pmdec_error FROM gaiadr1.gaia_source AS gaia INNER JOIN gaiadr1.tmass_best_neighbour AS xmatch ON gaia.source_id = xmatch.source_id INNER JOIN gaiadr1.tmass_original_valid AS tmass ON tmass.tmass_oid = xmatch.tmass_oid WHERE gaia.parallax >= 6 AND gaia.parallax <= 12 AND gaia.b >= -10 AND gaia.b <= 16 AND gaia.l >= 285 AND gaia.l <= 313 AND gaia.pmra < 10 AND gaia.pmdec < 30 AND sqrt(power(gaia.pmra,2)+power(gaia.pmdec,2)) > 15 AND sqrt(power(gaia.pmra,2)+power(gaia.pmdec,2)) < 55'\n",
      "Retrieving async. results...\n"
     ]
    },
    {
     "name": "stderr",
     "output_type": "stream",
     "text": [
      "WARNING: W27: None:3:0: W27: COOSYS deprecated in VOTable 1.2 [astropy.io.votable.tree]\n",
      "WARNING: W35: None:5:0: W35: 'value' attribute required for INFO elements [astropy.io.votable.tree]\n",
      "WARNING: W35: None:6:0: W35: 'value' attribute required for INFO elements [astropy.io.votable.tree]\n",
      "WARNING: W35: None:7:0: W35: 'value' attribute required for INFO elements [astropy.io.votable.tree]\n",
      "WARNING: W35: None:8:0: W35: 'value' attribute required for INFO elements [astropy.io.votable.tree]\n",
      "WARNING: W35: None:9:0: W35: 'value' attribute required for INFO elements [astropy.io.votable.tree]\n",
      "WARNING: W35: None:10:0: W35: 'value' attribute required for INFO elements [astropy.io.votable.tree]\n",
      "WARNING: W50: None:59:0: W50: Invalid unit string 'Angle[mas]' [astropy.io.votable.tree]\n",
      "WARNING: W50: None:67:0: W50: Invalid unit string 'Angle[mas]' [astropy.io.votable.tree]\n",
      "WARNING: W50: None:71:0: W50: Invalid unit string 'Angle[mas]' [astropy.io.votable.tree]\n",
      "WARNING: W50: None:75:0: W50: Invalid unit string 'Angle[mas]' [astropy.io.votable.tree]\n"
     ]
    },
    {
     "name": "stdout",
     "output_type": "stream",
     "text": [
      "Query finished.\n",
      "Launched query: 'SELECT gaia.source_id, gaia.ra, gaia.ra_error, gaia.dec, gaia.dec_error, gaia.parallax, gaia.parallax_error, gaia.l, gaia.b, gaia.phot_g_mean_mag+5*log10(gaia.parallax)-10 AS g_mag_abs, gaia.phot_g_mean_mag-tmass.ks_m AS g_min_ks, gaia.pmra, gaia.pmra_error, gaia.pmdec, gaia.pmdec_error FROM gaiadr1.gaia_source AS gaia INNER JOIN gaiadr1.tmass_best_neighbour AS xmatch ON gaia.source_id = xmatch.source_id INNER JOIN gaiadr1.tmass_original_valid AS tmass ON tmass.tmass_oid = xmatch.tmass_oid WHERE gaia.parallax >= 6.0 AND gaia.parallax <= 12 AND gaia.b >= 5 AND gaia.b <= 31 AND gaia.l >= 313 AND gaia.l <= 337 AND gaia.pmra < 10 AND gaia.pmdec < 30 AND sqrt(power(gaia.pmra,2)+power(gaia.pmdec,2)) > 12 AND sqrt(power(gaia.pmra,2)+power(gaia.pmdec,2)) < 55'\n",
      "Retrieving async. results...\n",
      "Query finished.\n",
      "Launched query: 'SELECT gaia.source_id, gaia.ra, gaia.ra_error, gaia.dec, gaia.dec_error, gaia.parallax, gaia.parallax_error, gaia.l, gaia.b, gaia.phot_g_mean_mag+5*log10(gaia.parallax)-10 AS g_mag_abs, gaia.phot_g_mean_mag-tmass.ks_m AS g_min_ks, gaia.pmra, gaia.pmra_error, gaia.pmdec, gaia.pmdec_error FROM gaiadr1.gaia_source AS gaia INNER JOIN gaiadr1.tmass_best_neighbour AS xmatch ON gaia.source_id = xmatch.source_id INNER JOIN gaiadr1.tmass_original_valid AS tmass ON tmass.tmass_oid = xmatch.tmass_oid WHERE gaia.parallax >= 6.0 AND gaia.parallax <= 12 AND gaia.b >= 7 AND gaia.b <= 32 AND gaia.l >= 337 AND gaia.l <= 360 AND gaia.pmra < 10 AND gaia.pmdec < 30 AND sqrt(power(gaia.pmra,2)+power(gaia.pmdec,2)) < 47'\n",
      "Retrieving async. results...\n",
      "Query finished.\n"
     ]
    }
   ],
   "source": [
    "print(\"Executing Gaia Query for LCC, UCL and US\")\n",
    "\n",
    "LCC = Gaia.launch_job_async(\"SELECT gaia.source_id, gaia.ra, gaia.ra_error, gaia.dec, gaia.dec_error, gaia.parallax, gaia.parallax_error, gaia.l, gaia.b, gaia.phot_g_mean_mag+5*log10(gaia.parallax)-10 AS g_mag_abs, gaia.phot_g_mean_mag-tmass.ks_m AS g_min_ks, gaia.pmra, gaia.pmra_error, gaia.pmdec, gaia.pmdec_error FROM gaiadr1.gaia_source AS gaia INNER JOIN gaiadr1.tmass_best_neighbour AS xmatch ON gaia.source_id = xmatch.source_id INNER JOIN gaiadr1.tmass_original_valid AS tmass ON tmass.tmass_oid = xmatch.tmass_oid WHERE gaia.parallax >= 6 AND gaia.parallax <= 12 AND gaia.b >= -10 AND gaia.b <= 16 AND gaia.l >= 285 AND gaia.l <= 313 AND gaia.pmra < 10 AND gaia.pmdec < 30 AND sqrt(power(gaia.pmra,2)+power(gaia.pmdec,2)) > 15 AND sqrt(power(gaia.pmra,2)+power(gaia.pmdec,2)) < 55\", dump_to_file = False)\n",
    "\n",
    "UCL = Gaia.launch_job_async(\"SELECT gaia.source_id, gaia.ra, gaia.ra_error, gaia.dec, gaia.dec_error, gaia.parallax, gaia.parallax_error, gaia.l, gaia.b, gaia.phot_g_mean_mag+5*log10(gaia.parallax)-10 AS g_mag_abs, gaia.phot_g_mean_mag-tmass.ks_m AS g_min_ks, gaia.pmra, gaia.pmra_error, gaia.pmdec, gaia.pmdec_error FROM gaiadr1.gaia_source AS gaia INNER JOIN gaiadr1.tmass_best_neighbour AS xmatch ON gaia.source_id = xmatch.source_id INNER JOIN gaiadr1.tmass_original_valid AS tmass ON tmass.tmass_oid = xmatch.tmass_oid WHERE gaia.parallax >= 6.0 AND gaia.parallax <= 12 AND gaia.b >= 5 AND gaia.b <= 31 AND gaia.l >= 313 AND gaia.l <= 337 AND gaia.pmra < 10 AND gaia.pmdec < 30 AND sqrt(power(gaia.pmra,2)+power(gaia.pmdec,2)) > 12 AND sqrt(power(gaia.pmra,2)+power(gaia.pmdec,2)) < 55\", dump_to_file = False)\n",
    "\n",
    "US  = Gaia.launch_job_async(\"SELECT gaia.source_id, gaia.ra, gaia.ra_error, gaia.dec, gaia.dec_error, gaia.parallax, gaia.parallax_error, gaia.l, gaia.b, gaia.phot_g_mean_mag+5*log10(gaia.parallax)-10 AS g_mag_abs, gaia.phot_g_mean_mag-tmass.ks_m AS g_min_ks, gaia.pmra, gaia.pmra_error, gaia.pmdec, gaia.pmdec_error FROM gaiadr1.gaia_source AS gaia INNER JOIN gaiadr1.tmass_best_neighbour AS xmatch ON gaia.source_id = xmatch.source_id INNER JOIN gaiadr1.tmass_original_valid AS tmass ON tmass.tmass_oid = xmatch.tmass_oid WHERE gaia.parallax >= 6.0 AND gaia.parallax <= 12 AND gaia.b >= 7 AND gaia.b <= 32 AND gaia.l >= 337 AND gaia.l <= 360 AND gaia.pmra < 10 AND gaia.pmdec < 30 AND sqrt(power(gaia.pmra,2)+power(gaia.pmdec,2)) < 47\", dump_to_file = False)"
   ]
  },
  {
   "cell_type": "code",
   "execution_count": 3,
   "metadata": {
    "collapsed": false
   },
   "outputs": [
    {
     "name": "stdout",
     "output_type": "stream",
     "text": [
      "Executing Gaia Query for LCC, UCL and US\n",
      "Launched query: 'SELECT gaia.ra, gaia.dec FROM gaiadr1.gaia_source AS gaia INNER JOIN gaiadr1.tmass_best_neighbour AS xmatch ON gaia.source_id = xmatch.source_id INNER JOIN gaiadr1.tmass_original_valid AS tmass ON tmass.tmass_oid = xmatch.tmass_oid WHERE gaia.parallax >= 6 AND gaia.parallax <= 12 AND gaia.b >= -10 AND gaia.b <= 16 AND gaia.l >= 285 AND gaia.l <= 313 AND gaia.pmra < 10 AND gaia.pmdec < 30 AND sqrt(power(gaia.pmra,2)+power(gaia.pmdec,2)) > 15 AND sqrt(power(gaia.pmra,2)+power(gaia.pmdec,2)) < 55'\n",
      "Retrieving async. results...\n"
     ]
    },
    {
     "name": "stderr",
     "output_type": "stream",
     "text": [
      "WARNING: W27: None:3:0: W27: COOSYS deprecated in VOTable 1.2 [astropy.io.votable.tree]\n",
      "WARNING: W35: None:5:0: W35: 'value' attribute required for INFO elements [astropy.io.votable.tree]\n",
      "WARNING: W35: None:6:0: W35: 'value' attribute required for INFO elements [astropy.io.votable.tree]\n",
      "WARNING: W35: None:7:0: W35: 'value' attribute required for INFO elements [astropy.io.votable.tree]\n",
      "WARNING: W35: None:8:0: W35: 'value' attribute required for INFO elements [astropy.io.votable.tree]\n",
      "WARNING: W35: None:9:0: W35: 'value' attribute required for INFO elements [astropy.io.votable.tree]\n",
      "WARNING: W35: None:10:0: W35: 'value' attribute required for INFO elements [astropy.io.votable.tree]\n"
     ]
    },
    {
     "name": "stdout",
     "output_type": "stream",
     "text": [
      "Query finished.\n",
      "Launched query: 'SELECT gaia.ra, gaia.dec FROM gaiadr1.gaia_source AS gaia INNER JOIN gaiadr1.tmass_best_neighbour AS xmatch ON gaia.source_id = xmatch.source_id INNER JOIN gaiadr1.tmass_original_valid AS tmass ON tmass.tmass_oid = xmatch.tmass_oid WHERE gaia.parallax >= 6.0 AND gaia.parallax <= 12 AND gaia.b >= 5 AND gaia.b <= 31 AND gaia.l >= 313 AND gaia.l <= 337 AND gaia.pmra < 10 AND gaia.pmdec < 30 AND sqrt(power(gaia.pmra,2)+power(gaia.pmdec,2)) > 12 AND sqrt(power(gaia.pmra,2)+power(gaia.pmdec,2)) < 55'\n",
      "Retrieving async. results...\n",
      "Query finished.\n",
      "Launched query: 'SELECT gaia.ra, gaia.dec FROM gaiadr1.gaia_source AS gaia INNER JOIN gaiadr1.tmass_best_neighbour AS xmatch ON gaia.source_id = xmatch.source_id INNER JOIN gaiadr1.tmass_original_valid AS tmass ON tmass.tmass_oid = xmatch.tmass_oid WHERE gaia.parallax >= 6.0 AND gaia.parallax <= 12 AND gaia.b >= 7 AND gaia.b <= 32 AND gaia.l >= 337 AND gaia.l <= 360 AND gaia.pmra < 10 AND gaia.pmdec < 30 AND sqrt(power(gaia.pmra,2)+power(gaia.pmdec,2)) < 47'\n",
      "Retrieving async. results...\n",
      "Query finished.\n"
     ]
    }
   ],
   "source": [
    "#To get just the coordinates to be used in SuperWASP \n",
    "\n",
    "print(\"Executing Gaia Query for LCC, UCL and US\")\n",
    "\n",
    "LCC_coord = Gaia.launch_job_async(\"SELECT gaia.ra, gaia.dec FROM gaiadr1.gaia_source AS gaia INNER JOIN gaiadr1.tmass_best_neighbour AS xmatch ON gaia.source_id = xmatch.source_id INNER JOIN gaiadr1.tmass_original_valid AS tmass ON tmass.tmass_oid = xmatch.tmass_oid WHERE gaia.parallax >= 6 AND gaia.parallax <= 12 AND gaia.b >= -10 AND gaia.b <= 16 AND gaia.l >= 285 AND gaia.l <= 313 AND gaia.pmra < 10 AND gaia.pmdec < 30 AND sqrt(power(gaia.pmra,2)+power(gaia.pmdec,2)) > 15 AND sqrt(power(gaia.pmra,2)+power(gaia.pmdec,2)) < 55\", dump_to_file = False)\n",
    "\n",
    "UCL_coord = Gaia.launch_job_async(\"SELECT gaia.ra, gaia.dec FROM gaiadr1.gaia_source AS gaia INNER JOIN gaiadr1.tmass_best_neighbour AS xmatch ON gaia.source_id = xmatch.source_id INNER JOIN gaiadr1.tmass_original_valid AS tmass ON tmass.tmass_oid = xmatch.tmass_oid WHERE gaia.parallax >= 6.0 AND gaia.parallax <= 12 AND gaia.b >= 5 AND gaia.b <= 31 AND gaia.l >= 313 AND gaia.l <= 337 AND gaia.pmra < 10 AND gaia.pmdec < 30 AND sqrt(power(gaia.pmra,2)+power(gaia.pmdec,2)) > 12 AND sqrt(power(gaia.pmra,2)+power(gaia.pmdec,2)) < 55\", dump_to_file = False)\n",
    "\n",
    "US_coord  = Gaia.launch_job_async(\"SELECT gaia.ra, gaia.dec FROM gaiadr1.gaia_source AS gaia INNER JOIN gaiadr1.tmass_best_neighbour AS xmatch ON gaia.source_id = xmatch.source_id INNER JOIN gaiadr1.tmass_original_valid AS tmass ON tmass.tmass_oid = xmatch.tmass_oid WHERE gaia.parallax >= 6.0 AND gaia.parallax <= 12 AND gaia.b >= 7 AND gaia.b <= 32 AND gaia.l >= 337 AND gaia.l <= 360 AND gaia.pmra < 10 AND gaia.pmdec < 30 AND sqrt(power(gaia.pmra,2)+power(gaia.pmdec,2)) < 47\", dump_to_file = False)"
   ]
  },
  {
   "cell_type": "code",
   "execution_count": 4,
   "metadata": {
    "collapsed": false
   },
   "outputs": [
    {
     "name": "stdout",
     "output_type": "stream",
     "text": [
      "Getting each column for LCC, UCL and US\n"
     ]
    }
   ],
   "source": [
    "print(\"Getting each column for LCC, UCL and US\")\n",
    "\n",
    "LCC_1 = LCC.get_results()\n",
    "UCL_1 = UCL.get_results()\n",
    "US_1  = US.get_results()\n",
    "\n",
    "LCC_2 = LCC_coord.get_results()\n",
    "UCL_2 = UCL_coord.get_results()\n",
    "US_2  = US_coord.get_results()"
   ]
  },
  {
   "cell_type": "code",
   "execution_count": 5,
   "metadata": {
    "collapsed": false
   },
   "outputs": [
    {
     "name": "stdout",
     "output_type": "stream",
     "text": [
      "Saving each column in a CSV file for LCC, UCL and US \n"
     ]
    }
   ],
   "source": [
    "print(\"Saving each column in a CSV file for LCC, UCL and US \")\n",
    "\n",
    "np.savetxt('LCC_Test.csv', np.c_[LCC_1[\"source_id\"], LCC_1[\"ra\"], LCC_1[\"ra_error\"],\\\n",
    "                                LCC_1[\"dec\"], LCC_1[\"dec_error\"], LCC_1[\"parallax\"],\\\n",
    "                                LCC_1[\"parallax_error\"], LCC_1[\"l\"], LCC_1[\"b\"],\\\n",
    "                                LCC_1[\"g_mag_abs\"], LCC_1[\"g_min_ks\"], LCC_1[\"pmra\"],\\\n",
    "                                LCC_1[\"pmra_error\"], LCC_1[\"pmdec\"], LCC_1[\"pmdec_error\"]\\\n",
    "                               ], delimiter = ',',\\\n",
    "           header = 'source_id,ra,ra_error,dec,dec_error,parallax,parallax_error,l,b,g_mag_abs,g_min_ks,pmra,pmra_error,pmdec,pmdec_error',\\\n",
    "           fmt = ['%i','%.15f','%.15f','%.15f','%.15f',\\\n",
    "                  '%.15f','%.15f','%.15f','%.15f','%.15f',\\\n",
    "                  '%.15f','%.15f','%.15f','%.15f','%.15f'])\n",
    "\n",
    "np.savetxt('UCL_Test.csv', np.c_[UCL_1[\"source_id\"], UCL_1[\"ra\"], UCL_1[\"ra_error\"],\\\n",
    "                                UCL_1[\"dec\"], UCL_1[\"dec_error\"], UCL_1[\"parallax\"],\\\n",
    "                                UCL_1[\"parallax_error\"], UCL_1[\"l\"], UCL_1[\"b\"],\\\n",
    "                                UCL_1[\"g_mag_abs\"], UCL_1[\"g_min_ks\"], UCL_1[\"pmra\"],\\\n",
    "                                UCL_1[\"pmra_error\"], UCL_1[\"pmdec\"], UCL_1[\"pmdec_error\"]\\\n",
    "                               ], delimiter = ',',\\\n",
    "           header = 'source_id,ra,ra_error,dec,dec_error,parallax,parallax_error,l,b,g_mag_abs,g_min_ks,pmra,pmra_error,pmdec,pmdec_error',\\\n",
    "           fmt = ['%i','%.15f','%.15f','%.15f','%.15f',\\\n",
    "                  '%.15f','%.15f','%.15f','%.15f','%.15f',\\\n",
    "                  '%.15f','%.15f','%.15f','%.15f','%.15f'])\n",
    "\n",
    "np.savetxt('US_Test.csv', np.c_[US_1[\"source_id\"], US_1[\"ra\"], US_1[\"ra_error\"],\\\n",
    "                                US_1[\"dec\"], US_1[\"dec_error\"], US_1[\"parallax\"],\\\n",
    "                                US_1[\"parallax_error\"], US_1[\"l\"], US_1[\"b\"],\\\n",
    "                                US_1[\"g_mag_abs\"], US_1[\"g_min_ks\"], US_1[\"pmra\"],\\\n",
    "                                US_1[\"pmra_error\"], US_1[\"pmdec\"], US_1[\"pmdec_error\"]\\\n",
    "                               ], delimiter = ',',\\\n",
    "           header = 'source_id,ra,ra_error,dec,dec_error,parallax,parallax_error,l,b,g_mag_abs,g_min_ks,pmra,pmra_error,pmdec,pmdec_error',\\\n",
    "           fmt = ['%i','%.15f','%.15f','%.15f','%.15f',\\\n",
    "                  '%.15f','%.15f','%.15f','%.15f','%.15f',\\\n",
    "                  '%.15f','%.15f','%.15f','%.15f','%.15f'])\n",
    "\n",
    "np.savetxt('LCC_Coordinates.csv', np.c_[LCC_2[\"ra\"], LCC_2[\"dec\"]], delimiter = ',', fmt = ['%.15f','%.15f'])\n",
    "np.savetxt('UCL_Coordinates.csv', np.c_[UCL_2[\"ra\"], UCL_2[\"dec\"]], delimiter = ',', fmt = ['%.15f','%.15f'])\n",
    "np.savetxt('US_Coordinates.csv', np.c_[US_2[\"ra\"], US_2[\"dec\"]], delimiter = ',', fmt = ['%.15f','%.15f'])"
   ]
  },
  {
   "cell_type": "code",
   "execution_count": null,
   "metadata": {
    "collapsed": true
   },
   "outputs": [],
   "source": []
  }
 ],
 "metadata": {
  "kernelspec": {
   "display_name": "Python 3",
   "language": "python",
   "name": "python3"
  },
  "language_info": {
   "codemirror_mode": {
    "name": "ipython",
    "version": 3
   },
   "file_extension": ".py",
   "mimetype": "text/x-python",
   "name": "python",
   "nbconvert_exporter": "python",
   "pygments_lexer": "ipython3",
   "version": "3.6.4"
  }
 },
 "nbformat": 4,
 "nbformat_minor": 2
}
